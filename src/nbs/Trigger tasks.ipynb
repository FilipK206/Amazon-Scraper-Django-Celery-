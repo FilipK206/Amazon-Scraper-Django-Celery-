{
 "cells": [
  {
   "cell_type": "code",
   "execution_count": 1,
   "id": "2e44c1ba-c026-48a6-8426-00da75ce6fb6",
   "metadata": {},
   "outputs": [],
   "source": [
    "import setup\n",
    "setup.init_django(project_name='webscraping')"
   ]
  },
  {
   "cell_type": "code",
   "execution_count": 2,
   "id": "2c9338c3-add8-4d8e-8351-ebaf1e3f48bb",
   "metadata": {},
   "outputs": [
    {
     "name": "stdout",
     "output_type": "stream",
     "text": [
      "/home/filip/Documents/vs_code/django_celery/src\n"
     ]
    }
   ],
   "source": [
    "!pwd"
   ]
  },
  {
   "cell_type": "code",
   "execution_count": 4,
   "id": "b5d42130-9508-4a23-b5b0-775fa5aaa673",
   "metadata": {},
   "outputs": [],
   "source": [
    "import helpers\n",
    "from products.tasks import scrape_product_url_task"
   ]
  },
  {
   "cell_type": "code",
   "execution_count": 5,
   "id": "ff360b2e-65cf-41e7-b364-9d57ddfd7e8e",
   "metadata": {},
   "outputs": [],
   "source": [
    "url = \"https://www.amazon.com/Playstation-Disc-Version-Console-Bluetooth_5-1/dp/B0BMX3GLX4/ref=sr_1_1?dib=eyJ2IjoiMSJ9.9fIo9_iYF7yYh57vNTyW58hErQKg33JOBRG_R0nRyVA7HfI93N5PkvGTP__wtfwKTAe2lWXHCDqITqZEGAruwxlV0zR-Y22fuakQgbfeWyQPo4BqT_bqaEXt_VDtO2FSdbeWbbNowe64S9b8Iq12dXgbrq-j6JPbqNGTSIP1YTOL6Pxz97VPmFlZj9CcPuKNbRInEVttMh0_96_70-W0BKjCmKKAVoMUqRdW5r1WzgY.zEOveGjpeYNtw4Qm3kj7Q1wYzRvKega7Tg4rbr5_XPk&dib_tag=se&keywords=playstation+5&qid=1732819466&sr=8-1\""
   ]
  },
  {
   "cell_type": "code",
   "execution_count": 6,
   "id": "75c02a5a-21c5-4eb2-ab4e-60ebf1920af0",
   "metadata": {},
   "outputs": [
    {
     "data": {
      "text/plain": [
       "<AsyncResult: f5af41de-1acb-4067-9fb3-55dda7fa0b67>"
      ]
     },
     "execution_count": 6,
     "metadata": {},
     "output_type": "execute_result"
    }
   ],
   "source": [
    "scrape_product_url_task.delay(url)"
   ]
  },
  {
   "cell_type": "code",
   "execution_count": null,
   "id": "022f9f5c-01f1-4b62-a2a5-1bd68dd73ea4",
   "metadata": {},
   "outputs": [],
   "source": []
  }
 ],
 "metadata": {
  "kernelspec": {
   "display_name": "Python 3 (ipykernel)",
   "language": "python",
   "name": "python3"
  },
  "language_info": {
   "codemirror_mode": {
    "name": "ipython",
    "version": 3
   },
   "file_extension": ".py",
   "mimetype": "text/x-python",
   "name": "python",
   "nbconvert_exporter": "python",
   "pygments_lexer": "ipython3",
   "version": "3.10.9"
  }
 },
 "nbformat": 4,
 "nbformat_minor": 5
}
