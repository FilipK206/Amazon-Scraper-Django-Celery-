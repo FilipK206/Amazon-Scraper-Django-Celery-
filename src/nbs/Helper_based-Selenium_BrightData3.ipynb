{
 "cells": [
  {
   "cell_type": "code",
   "execution_count": 5,
   "id": "9bdc159a-c627-49ba-9e24-5ad29a583de8",
   "metadata": {},
   "outputs": [],
   "source": [
    "import setup\n",
    "setup.init_django(project_name='webscraping')"
   ]
  },
  {
   "cell_type": "code",
   "execution_count": 7,
   "id": "a6ef7011-1ea1-4e4d-82f0-63a80eba30a0",
   "metadata": {},
   "outputs": [],
   "source": [
    "import helpers"
   ]
  },
  {
   "cell_type": "code",
   "execution_count": 9,
   "id": "eda9fa94-e764-45e0-8d48-36b571822ec9",
   "metadata": {},
   "outputs": [],
   "source": [
    "url = \"https://www.amazon.pl/Sony-Zv-E10-ZVE10BDI-EU-Aparat-Fotograficzny/dp/B098LWQPRT/ref=sr_1_4?__mk_pl_PL=%C3%85M%C3%85%C5%BD%C3%95%C3%91&crid=1VV4TQ9KWVDTK&dib=eyJ2IjoiMSJ9.aWFqmKxpdpr-NtP2P5eN16spoKcReN8pUgEV29SHtBPYkD118jMQv9YJB_LyBZD0gusHX9nlTomeMqoE1hxGeLyNDB0fK4Bq4i3lEGXo8SG7lhbuHx6wy6vqs517SVPbaQilEUVbXR0w18SPYYnmsc-LDeCVubMOqqP7dw8rTlM67LFUjPR3j2LL8AvtFaC1Cdill3ZT5P7wEZteJ-oBf7SdgaTAJf0uHYkMJjRB0bqZd7dhFa4LTw5WBDKIPEwaBHoV8rWpSJ3BuPAZcswU7L53e4Kt6isqMDGhmT-caC0.zR_apn0fr9lAITkv7-XXUgHRY6LIlsmMw3-W8nckhJk&dib_tag=se&keywords=sony+zv+e10&qid=1732744594&sprefix=sony+zv+e10%2Caps%2C112&sr=8-4\""
   ]
  },
  {
   "cell_type": "code",
   "execution_count": 11,
   "id": "7b444988-9a11-4563-b988-083b8ca6fb47",
   "metadata": {},
   "outputs": [
    {
     "name": "stdout",
     "output_type": "stream",
     "text": [
      "Connecting to Scraping Browser...\n",
      "Connected! Navigating...https://www.amazon.pl/Sony-Zv-E10-ZVE10BDI-EU-Aparat-Fotograficzny/dp/B098LWQPRT/ref=sr_1_4?__mk_pl_PL=%C3%85M%C3%85%C5%BD%C3%95%C3%91&crid=1VV4TQ9KWVDTK&dib=eyJ2IjoiMSJ9.aWFqmKxpdpr-NtP2P5eN16spoKcReN8pUgEV29SHtBPYkD118jMQv9YJB_LyBZD0gusHX9nlTomeMqoE1hxGeLyNDB0fK4Bq4i3lEGXo8SG7lhbuHx6wy6vqs517SVPbaQilEUVbXR0w18SPYYnmsc-LDeCVubMOqqP7dw8rTlM67LFUjPR3j2LL8AvtFaC1Cdill3ZT5P7wEZteJ-oBf7SdgaTAJf0uHYkMJjRB0bqZd7dhFa4LTw5WBDKIPEwaBHoV8rWpSJ3BuPAZcswU7L53e4Kt6isqMDGhmT-caC0.zR_apn0fr9lAITkv7-XXUgHRY6LIlsmMw3-W8nckhJk&dib_tag=se&keywords=sony+zv+e10&qid=1732744594&sprefix=sony+zv+e10%2Caps%2C112&sr=8-4\n",
      "Navigated! Scraping page content...\n"
     ]
    }
   ],
   "source": [
    "html = helpers.scrape(url=url)"
   ]
  },
  {
   "cell_type": "code",
   "execution_count": 13,
   "id": "13167ae3-551f-4ff2-ad98-220ae16a911a",
   "metadata": {},
   "outputs": [],
   "source": [
    "from bs4 import BeautifulSoup"
   ]
  },
  {
   "cell_type": "code",
   "execution_count": 14,
   "id": "5b1ca465-7d19-4dd4-9fd7-c13b1ef258dc",
   "metadata": {},
   "outputs": [],
   "source": [
    "soup = BeautifulSoup(html)"
   ]
  },
  {
   "cell_type": "markdown",
   "id": "2e040114-c8c7-4bf8-8fe5-0671c343c196",
   "metadata": {},
   "source": [
    "```html\n",
    " <span id=\"productTitle\" class=\"a-size-large product-title-word-break\">        Sony Alpha Zv-E10 ZVE10BDI.EU Aparat Fotograficzny, Czarny, 24.2 MP       </span>\n",
    " ```"
   ]
  },
  {
   "cell_type": "code",
   "execution_count": 21,
   "id": "4155a333-bd1d-4482-9544-af6af351cf79",
   "metadata": {},
   "outputs": [
    {
     "data": {
      "text/plain": [
       "'Sony Alpha Zv-E10 ZVE10BDI.EU Aparat Fotograficzny, Czarny, 24.2 MP'"
      ]
     },
     "execution_count": 21,
     "metadata": {},
     "output_type": "execute_result"
    }
   ],
   "source": [
    "productTitle = soup.find('span', id='productTitle')\n",
    "productTitleText = f\"{productTitle.text}\".strip()\n",
    "productTitleText"
   ]
  },
  {
   "cell_type": "code",
   "execution_count": 41,
   "id": "6182ce1f-495e-424b-a5f1-8f32c6394f6c",
   "metadata": {},
   "outputs": [
    {
     "data": {
      "text/plain": [
       "2349"
      ]
     },
     "execution_count": 41,
     "metadata": {},
     "output_type": "execute_result"
    }
   ],
   "source": [
    "productPrice = soup.find_all('span', class_='a-price-whole')[0]\n",
    "productPriceNum = \"\".join([x for x in f\"{productPrice.text}\".strip() if x.isdigit()])\n",
    "productPriceNum = int(productPriceNum)\n",
    "productPriceNum"
   ]
  },
  {
   "cell_type": "code",
   "execution_count": 45,
   "id": "d2a254f1-845f-4fae-ba13-4dd433b9324d",
   "metadata": {},
   "outputs": [
    {
     "data": {
      "text/plain": [
       "['Producent',\n",
       " 'Oceny klientów',\n",
       " 'Ranking najlepiej sprzedających się produktów',\n",
       " 'Dołączone części składowe',\n",
       " 'Czy baterie są dołączone do zestawu?',\n",
       " 'Marka',\n",
       " 'Numer modelu',\n",
       " 'Rodzaj kamery',\n",
       " 'Nazwa modelu']"
      ]
     },
     "execution_count": 45,
     "metadata": {},
     "output_type": "execute_result"
    }
   ],
   "source": [
    "product_data = soup.find('div', id=\"prodDetails\")\n",
    "table = product_data.find('table')\n",
    "columns = [f\"{x.text}\".strip() for x in table.find_all('th')]\n",
    "columns"
   ]
  },
  {
   "cell_type": "code",
   "execution_count": 46,
   "id": "a4b8fb4d-1866-4dd7-a9b9-49a606fe6082",
   "metadata": {},
   "outputs": [],
   "source": [
    "table_data=[]\n",
    "for i, row in enumerate(table.find_all('tr')):  # [1:] to skip the header row\n",
    "    # Get all cells in the row\n",
    "    cells = row.find_all('td')\n",
    "    # Create a dictionary for the current row, mapping header to cell data\n",
    "    row_data = {columns[i]: f'{cell.text}'.strip() for cell in cells}\n",
    "    # Add the dictionary to your list\n",
    "    table_data.append(row_data)"
   ]
  },
  {
   "cell_type": "code",
   "execution_count": 47,
   "id": "426c1be8-241e-44c1-9395-7364a5699584",
   "metadata": {},
   "outputs": [
    {
     "data": {
      "text/plain": [
       "[{'Producent': 'Sony'},\n",
       " {'Oceny klientów': '4,6  4,6 z 5 gwiazdek    \\n    Liczba ocen: 363   \\n\\n\\n 4,6 z 5 gwiazdek'},\n",
       " {'Ranking najlepiej sprzedających się produktów': 'Pozycja 5\\xa0887 w kategorii Elektronika (Zobacz Top 100 w kategorii Elektronika)  Pozycja 13 w kategorii Kompaktowe aparaty fotograficzne'},\n",
       " {'Dołączone części składowe': 'Akumulator NP-FW50, zasilacz sieciowy, pasek na ramię, przewód USB-A — USB-C (USB 2.0), osłona przeciwwiatrowa, adapter osłony przeciwwiatrowej, przykrywka korpusu, przewód zasilający'},\n",
       " {'Czy baterie są dołączone do zestawu?': 'true'},\n",
       " {'Marka': 'Sony'},\n",
       " {'Numer modelu': 'ZVE10BDI.EU'},\n",
       " {'Rodzaj kamery': 'Kamera wideo'},\n",
       " {'Nazwa modelu': 'Alpha ZV-E10'}]"
      ]
     },
     "execution_count": 47,
     "metadata": {},
     "output_type": "execute_result"
    }
   ],
   "source": [
    "table_data"
   ]
  },
  {
   "cell_type": "code",
   "execution_count": 48,
   "id": "7c959779-f931-49fa-84b0-2775dc8b6e3b",
   "metadata": {},
   "outputs": [
    {
     "data": {
      "text/plain": [
       "46.0"
      ]
     },
     "execution_count": 48,
     "metadata": {},
     "output_type": "execute_result"
    }
   ],
   "source": [
    "average_rating = soup.find(id='averageCustomerReviews').find_all(\"span\", class_='a-size-base')[0].text.strip()\n",
    "average_rating = \"\".join([x for x in f\"{average_rating}\".strip() if x.isdigit() or x == '.'])\n",
    "average_rating = float(average_rating)\n",
    "average_rating"
   ]
  },
  {
   "cell_type": "code",
   "execution_count": 49,
   "id": "ef2b4588-ff74-48ca-8b01-2cdd5da268cf",
   "metadata": {},
   "outputs": [
    {
     "data": {
      "text/plain": [
       "' \\n The new interchangeable-lens vlog camera ZV-E10 - designed for vlogging - gives you next level 4K video quality and Full HD 120p slow motion while remaining easy to use. It packs intuitive features and a vari-angle screen, making it a perfect content creation camera, and for all types of vlogs. With a directional microphone included, clearly capture your voice while recording. Compact and lightweight, the Sony ZV-E10 provides you with endless creative shooting options with more than 60 compatible Sony lenses.  '"
      ]
     },
     "execution_count": 49,
     "metadata": {},
     "output_type": "execute_result"
    }
   ],
   "source": [
    "productDescription = soup.find('div', id='productDescription').text\n",
    "productDescription"
   ]
  },
  {
   "cell_type": "code",
   "execution_count": null,
   "id": "c4b987d7-6b64-4178-b89e-7358a3f805d7",
   "metadata": {},
   "outputs": [],
   "source": []
  }
 ],
 "metadata": {
  "kernelspec": {
   "display_name": "Python 3 (ipykernel)",
   "language": "python",
   "name": "python3"
  },
  "language_info": {
   "codemirror_mode": {
    "name": "ipython",
    "version": 3
   },
   "file_extension": ".py",
   "mimetype": "text/x-python",
   "name": "python",
   "nbconvert_exporter": "python",
   "pygments_lexer": "ipython3",
   "version": "3.10.9"
  }
 },
 "nbformat": 4,
 "nbformat_minor": 5
}
