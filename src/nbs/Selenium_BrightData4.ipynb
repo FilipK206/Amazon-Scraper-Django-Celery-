{
 "cells": [
  {
   "cell_type": "code",
   "execution_count": 1,
   "id": "9bdc159a-c627-49ba-9e24-5ad29a583de8",
   "metadata": {},
   "outputs": [],
   "source": [
    "import setup\n",
    "setup.init_django(project_name='webscraping')\n",
    "from bs4 import BeautifulSoup\n",
    "import helpers\n",
    "from products.models import ProductScrapeEvent, Product"
   ]
  },
  {
   "cell_type": "code",
   "execution_count": 10,
   "id": "eda9fa94-e764-45e0-8d48-36b571822ec9",
   "metadata": {},
   "outputs": [],
   "source": [
    "url = \"https://www.amazon.com/Playstation-Disc-Version-Console-Bluetooth_5-1/dp/B0BMX3GLX4/ref=sr_1_1?dib=eyJ2IjoiMSJ9.9fIo9_iYF7yYh57vNTyW58hErQKg33JOBRG_R0nRyVA7HfI93N5PkvGTP__wtfwKTAe2lWXHCDqITqZEGAruwxlV0zR-Y22fuakQgbfeWyQPo4BqT_bqaEXt_VDtO2FSdbeWbbNowe64S9b8Iq12dXgbrq-j6JPbqNGTSIP1YTOL6Pxz97VPmFlZj9CcPuKNbRInEVttMh0_96_70-W0BKjCmKKAVoMUqRdW5r1WzgY.zEOveGjpeYNtw4Qm3kj7Q1wYzRvKega7Tg4rbr5_XPk&dib_tag=se&keywords=playstation+5&qid=1732819466&sr=8-1\""
   ]
  },
  {
   "cell_type": "code",
   "execution_count": 11,
   "id": "7b444988-9a11-4563-b988-083b8ca6fb47",
   "metadata": {},
   "outputs": [
    {
     "name": "stdout",
     "output_type": "stream",
     "text": [
      "Connecting to Scraping Browser...\n",
      "Connected! Navigating to https://www.amazon.com/Playstation-Disc-Version-Console-Bluetooth_5-1/dp/B0BMX3GLX4/ref=sr_1_1\n",
      "Navigated! Scraping page content...\n"
     ]
    }
   ],
   "source": [
    "html = helpers.scrape(url=url, solve_captcha=False)"
   ]
  },
  {
   "cell_type": "code",
   "execution_count": 12,
   "id": "c4b987d7-6b64-4178-b89e-7358a3f805d7",
   "metadata": {},
   "outputs": [
    {
     "data": {
      "text/plain": [
       "{'asin': 'B0BMX3GLX4',\n",
       " 'title': 'Playstation 5 Disc Version PS5 Console - 4K-TV Gaming.120Hz 8K Output, 16GB GDDR6, 825GB SSD, WiFi 6, Bluetooth_5.1',\n",
       " 'price_raw': '529.',\n",
       " 'price_text': '529.',\n",
       " 'price': 529.0,\n",
       " 'metadata': [{'ASIN': 'B0BMX3GLX4'},\n",
       "  {'Customer Reviews': '3.6  3.6 out of 5 stars    \\n    10 ratings   \\n\\n\\n 3.6 out of 5 stars'},\n",
       "  {'Best Sellers Rank': '#451 in Video Games (See Top 100 in Video Games)  #1 in PlayStation Consoles'},\n",
       "  {'Product Dimensions': '15.4 x 4.09 x 10.24 inches; 21.15 Pounds'},\n",
       "  {'Item model number': 'Sony'},\n",
       "  {'Item Weight': '21.2 pounds'},\n",
       "  {'Date First Available': 'November 19, 2022'}],\n",
       " 'description': ' \\n',\n",
       " 'feature_bullets': ' ',\n",
       " 'rating': {'average': 3.6, 'count': 10}}"
      ]
     },
     "execution_count": 12,
     "metadata": {},
     "output_type": "execute_result"
    }
   ],
   "source": [
    "data = helpers.extract_amazon_product_data(html)\n",
    "data"
   ]
  },
  {
   "cell_type": "code",
   "execution_count": 13,
   "id": "07a07794-d720-47f1-b2e3-adc0fe220996",
   "metadata": {},
   "outputs": [
    {
     "name": "stdout",
     "output_type": "stream",
     "text": [
      "ASIN: B0BMX3GLX4\n",
      "Product: Product object (1), Created: True\n",
      "Event Created: ProductScrapeEvent object (1)\n"
     ]
    },
    {
     "data": {
      "text/plain": [
       "<ProductScrapeEvent: ProductScrapeEvent object (1)>"
      ]
     },
     "execution_count": 13,
     "metadata": {},
     "output_type": "execute_result"
    }
   ],
   "source": [
    "ProductScrapeEvent.objects.create_scrape_event(data, url=url)"
   ]
  },
  {
   "cell_type": "code",
   "execution_count": 14,
   "id": "628ce935-0b80-49cf-869f-4bda8de9fb60",
   "metadata": {},
   "outputs": [
    {
     "data": {
      "text/plain": [
       "<QuerySet [<ProductScrapeEvent: ProductScrapeEvent object (1)>]>"
      ]
     },
     "execution_count": 14,
     "metadata": {},
     "output_type": "execute_result"
    }
   ],
   "source": [
    "qs = ProductScrapeEvent.objects.all()\n",
    "qs"
   ]
  },
  {
   "cell_type": "code",
   "execution_count": 15,
   "id": "aed9fe08-f709-4fdc-82cb-65a6d96434eb",
   "metadata": {},
   "outputs": [
    {
     "data": {
      "text/plain": [
       "<QuerySet [<Product: Product object (1)>]>"
      ]
     },
     "execution_count": 15,
     "metadata": {},
     "output_type": "execute_result"
    }
   ],
   "source": [
    "product_qs = Product.objects.all()\n",
    "product_qs"
   ]
  },
  {
   "cell_type": "code",
   "execution_count": null,
   "id": "d72c2461-b37f-4690-859e-cc8bc67db36e",
   "metadata": {},
   "outputs": [],
   "source": []
  }
 ],
 "metadata": {
  "kernelspec": {
   "display_name": "Python 3 (ipykernel)",
   "language": "python",
   "name": "python3"
  },
  "language_info": {
   "codemirror_mode": {
    "name": "ipython",
    "version": 3
   },
   "file_extension": ".py",
   "mimetype": "text/x-python",
   "name": "python",
   "nbconvert_exporter": "python",
   "pygments_lexer": "ipython3",
   "version": "3.10.9"
  }
 },
 "nbformat": 4,
 "nbformat_minor": 5
}
